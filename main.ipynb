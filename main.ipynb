{
 "cells": [
  {
   "cell_type": "markdown",
   "metadata": {},
   "source": [
    "# Develon"
   ]
  },
  {
   "cell_type": "code",
   "execution_count": 1,
   "metadata": {},
   "outputs": [
    {
     "name": "stderr",
     "output_type": "stream",
     "text": [
      "Scraping Models:  29%|██▉       | 7/24 [00:53<02:09,  7.64s/it]"
     ]
    },
    {
     "name": "stdout",
     "output_type": "stream",
     "text": [
      "Error: Message: unknown error: net::ERR_INTERNET_DISCONNECTED\n",
      "  (Session info: chrome=131.0.6778.205)\n",
      "Stacktrace:\n",
      "0   chromedriver                        0x0000000104fda138 cxxbridge1$str$ptr + 3653888\n",
      "1   chromedriver                        0x0000000104fd2988 cxxbridge1$str$ptr + 3623248\n",
      "2   chromedriver                        0x0000000104a38968 cxxbridge1$string$len + 89228\n",
      "3   chromedriver                        0x0000000104a31d7c cxxbridge1$string$len + 61600\n",
      "4   chromedriver                        0x0000000104a23ea8 cxxbridge1$string$len + 4556\n",
      "5   chromedriver                        0x0000000104a25860 cxxbridge1$string$len + 11140\n",
      "6   chromedriver                        0x0000000104a24254 cxxbridge1$string$len + 5496\n",
      "7   chromedriver                        0x0000000104a23ab4 cxxbridge1$string$len + 3544\n",
      "8   chromedriver                        0x0000000104a23a00 cxxbridge1$string$len + 3364\n",
      "9   chromedriver                        0x0000000104a2178c core::str::slice_error_fail::ha0e52dbcb60e6bae + 59404\n",
      "10  chromedriver                        0x0000000104a222c4 core::str::slice_error_fail::ha0e52dbcb60e6bae + 62276\n",
      "11  chromedriver                        0x0000000104a3ae6c cxxbridge1$string$len + 98704\n",
      "12  chromedriver                        0x0000000104ab6a94 cxxbridge1$string$len + 605624\n",
      "13  chromedriver                        0x0000000104ab64f0 cxxbridge1$string$len + 604180\n",
      "14  chromedriver                        0x0000000104a71564 cxxbridge1$string$len + 321672\n",
      "15  chromedriver                        0x0000000104a721b4 cxxbridge1$string$len + 324824\n",
      "16  chromedriver                        0x0000000104fa4fc0 cxxbridge1$str$ptr + 3436424\n",
      "17  chromedriver                        0x0000000104fa82dc cxxbridge1$str$ptr + 3449508\n",
      "18  chromedriver                        0x0000000104f8be60 cxxbridge1$str$ptr + 3333672\n",
      "19  chromedriver                        0x0000000104fa8b9c cxxbridge1$str$ptr + 3451748\n",
      "20  chromedriver                        0x0000000104f7d678 cxxbridge1$str$ptr + 3274304\n",
      "21  chromedriver                        0x0000000104fc32b4 cxxbridge1$str$ptr + 3560060\n",
      "22  chromedriver                        0x0000000104fc3430 cxxbridge1$str$ptr + 3560440\n",
      "23  chromedriver                        0x0000000104fd25fc cxxbridge1$str$ptr + 3622340\n",
      "24  libsystem_pthread.dylib             0x000000018afeb2e4 _pthread_start + 136\n",
      "25  libsystem_pthread.dylib             0x000000018afe60fc thread_start + 8\n",
      "\n",
      "Data successfully saved to excavator_data_with_details.xlsx\n"
     ]
    },
    {
     "name": "stderr",
     "output_type": "stream",
     "text": [
      "\n"
     ]
    }
   ],
   "source": [
    "import time\n",
    "import random\n",
    "from selenium import webdriver\n",
    "from selenium.webdriver.common.by import By\n",
    "from selenium.webdriver.chrome.service import Service\n",
    "from webdriver_manager.chrome import ChromeDriverManager\n",
    "from urllib.parse import urlparse\n",
    "import openpyxl\n",
    "import pandas as pd\n",
    "from selenium.common.exceptions import NoSuchElementException\n",
    "from tqdm import tqdm  # Import tqdm for progress bar\n",
    "\n",
    "# Function to extract domain from URL\n",
    "def extract_domain(url):\n",
    "    parsed_url = urlparse(url)\n",
    "    return parsed_url.netloc\n",
    "\n",
    "# Function to search Google\n",
    "def search_google(query):\n",
    "    search_url = f\"https://www.google.com/search?q={query}\"\n",
    "    \n",
    "    options = webdriver.ChromeOptions()\n",
    "    options.add_argument(\"--headless\")\n",
    "    options.add_argument(\"--no-sandbox\")\n",
    "    options.add_argument(\"--disable-gpu\")\n",
    "    options.add_argument(\"--disable-dev-shm-usage\")\n",
    "    options.add_argument(\"--disable-blink-features=AutomationControlled\")\n",
    "    options.add_argument(\"start-maximized\")\n",
    "    options.add_argument(f\"user-agent=Mozilla/5.0 (Windows NT {random.randint(6, 10)}.0; Win64; x64) AppleWebKit/537.36 (KHTML, like Gecko) Chrome/{random.randint(90, 110)}.0.4472.{random.randint(100, 200)} Safari/537.36\")\n",
    "        \n",
    "    driver = webdriver.Chrome(service=Service(ChromeDriverManager().install()), options=options)\n",
    "    driver.get(search_url)\n",
    "    return driver\n",
    "\n",
    "# Add a delay to mimic human behavior\n",
    "def random_delay(min_seconds=1, max_seconds=3):\n",
    "    time.sleep(random.uniform(min_seconds, max_seconds))\n",
    "\n",
    "def get_first_search_result(url, model):\n",
    "    query = extract_domain(url) + \"+\" + model\n",
    "    driver = search_google(query)\n",
    "    \n",
    "    try:\n",
    "        first_result = driver.find_element(By.CSS_SELECTOR, 'a[jsname=\"UWckNb\"]')\n",
    "        link = first_result.get_attribute('href')\n",
    "        return link\n",
    "    except Exception as e:\n",
    "        return f\"Error: {e}\"\n",
    "    finally:\n",
    "        driver.quit()\n",
    "\n",
    "# Main function to scrape excavator data\n",
    "def scrape_excavator_data():\n",
    "    url = \"https://asia.develon-ce.com/en/equipment/excavators/\"\n",
    "    options = webdriver.ChromeOptions()\n",
    "    options.add_argument(\"--no-sandbox\")\n",
    "    options.add_argument(\"--disable-gpu\")\n",
    "    options.add_argument(\"--disable-dev-shm-usage\")\n",
    "    driver = webdriver.Chrome(service=Service(ChromeDriverManager().install()), options=options)\n",
    "    driver.get(url)\n",
    "\n",
    "    # Create Excel workbook\n",
    "    workbook = openpyxl.Workbook()\n",
    "    table = workbook.active\n",
    "    table.title = \"Excavator Data\"\n",
    "    table.append([\"Model\"] + [f\"Detail {i}\" for i in range(1, 20)])  # Header row (adjust number of details as needed)\n",
    "\n",
    "    while True:\n",
    "        try:\n",
    "            model_elements = driver.find_elements(By.CSS_SELECTOR, \".product_name.en_plain_b\")\n",
    "\n",
    "            for model in tqdm(model_elements, total=len(model_elements), desc=\"Scraping Models\"):\n",
    "                random_delay()\n",
    "                first_result = get_first_search_result(url, model.text)\n",
    "\n",
    "                try:\n",
    "                    tables = pd.read_html(first_result)\n",
    "                    detail_info = tables[1]  # Assuming details are in the second table\n",
    "                    flattened_details = detail_info.values.flatten().tolist()  # Flatten DataFrame into a single list\n",
    "                except Exception as e:\n",
    "                    flattened_details = [\"Details not found\"]\n",
    "\n",
    "                # Append model and flattened details in one row\n",
    "                table.append([model.text] + flattened_details)\n",
    "            \n",
    "            try:\n",
    "                load_more_button = driver.find_element(By.CLASS_NAME, \"btn_more\")\n",
    "                ActionChains(driver).move_to_element(load_more_button).perform()\n",
    "                random_delay()\n",
    "                load_more_button.click()\n",
    "                random_delay(2, 4)  # Longer delay for content load\n",
    "            except NoSuchElementException:\n",
    "                print(\"No 'Load More' button. Exiting loop.\")\n",
    "                break\n",
    "\n",
    "        except Exception as e:\n",
    "            print(f\"Error: {e}\")\n",
    "            break\n",
    "\n",
    "    file_name = \"excavator_data_with_details.xlsx\"\n",
    "    workbook.save(file_name)\n",
    "    print(f\"Data successfully saved to {file_name}\")\n",
    "\n",
    "    driver.quit()\n",
    "\n",
    "if __name__ == \"__main__\":\n",
    "    scrape_excavator_data()\n"
   ]
  },
  {
   "cell_type": "markdown",
   "metadata": {},
   "source": [
    "# Develon"
   ]
  },
  {
   "cell_type": "markdown",
   "metadata": {},
   "source": [
    "I need to extract data for APAC"
   ]
  },
  {
   "cell_type": "markdown",
   "metadata": {},
   "source": [
    "# Komatsu"
   ]
  },
  {
   "cell_type": "markdown",
   "metadata": {},
   "source": [
    "# Two-wheeler\n"
   ]
  }
 ],
 "metadata": {
  "kernelspec": {
   "display_name": "base",
   "language": "python",
   "name": "python3"
  },
  "language_info": {
   "codemirror_mode": {
    "name": "ipython",
    "version": 3
   },
   "file_extension": ".py",
   "mimetype": "text/x-python",
   "name": "python",
   "nbconvert_exporter": "python",
   "pygments_lexer": "ipython3",
   "version": "3.12.4"
  }
 },
 "nbformat": 4,
 "nbformat_minor": 2
}
