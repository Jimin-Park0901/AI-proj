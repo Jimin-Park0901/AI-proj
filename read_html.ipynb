{
 "cells": [
  {
   "cell_type": "code",
   "execution_count": 1,
   "metadata": {},
   "outputs": [
    {
     "name": "stdout",
     "output_type": "stream",
     "text": [
      "https://asia.develon-ce.com/en/equipment/excavators-detail/211\n"
     ]
    }
   ],
   "source": [
    "import time\n",
    "from selenium import webdriver\n",
    "from selenium.webdriver.common.by import By\n",
    "from selenium.webdriver.chrome.service import Service\n",
    "from webdriver_manager.chrome import ChromeDriverManager\n",
    "from urllib.parse import urlparse\n",
    "\n",
    "url = \"https://asia.develon-ce.com/en/equipment/excavators/\"\n",
    "model = \"DX89R-7\"\n",
    "\n",
    "def extract_domain(url):\n",
    "    parsed_url = urlparse(url)\n",
    "    return parsed_url.netloc\n",
    "\n",
    "def search_google(query):\n",
    "    search_url = f\"https://www.google.com/search?q={query}\"\n",
    "    \n",
    "    # Set up the Chrome WebDriver\n",
    "    options = webdriver.ChromeOptions()\n",
    "    options.add_argument(\"--headless\")  # Run in headless mode (without opening a browser window)\n",
    "    options.add_argument(\"--disable-gpu\")\n",
    "    options.add_argument(\"--no-sandbox\")\n",
    "    \n",
    "    driver = webdriver.Chrome(service=Service(ChromeDriverManager().install()), options=options)\n",
    "    driver.get(search_url)\n",
    "    \n",
    "    # Wait for results to load (adjust time if necessary)\n",
    "    time.sleep(3)  # Wait for the page to load, adjust if needed\n",
    "    \n",
    "    return driver\n",
    "\n",
    "def get_first_search_result(url, model):\n",
    "    query = extract_domain(url) + \"+\" + model\n",
    "    driver = search_google(query)\n",
    "    \n",
    "    # Find the first search result using the href attribute\n",
    "    try:\n",
    "        first_result = driver.find_element(By.CSS_SELECTOR, 'a[jsname=\"UWckNb\"]')\n",
    "        link = first_result.get_attribute('href')  # Extract the href attribute (the URL)\n",
    "        return link\n",
    "    except Exception as e:\n",
    "        return f\"Error: {e}\"\n",
    "    finally:\n",
    "        driver.quit()  # Close the browser when done\n",
    "\n",
    "# Example usage\n",
    "first_result = get_first_search_result(url, model)\n",
    "print(first_result)\n"
   ]
  }
 ],
 "metadata": {
  "kernelspec": {
   "display_name": "base",
   "language": "python",
   "name": "python3"
  },
  "language_info": {
   "codemirror_mode": {
    "name": "ipython",
    "version": 3
   },
   "file_extension": ".py",
   "mimetype": "text/x-python",
   "name": "python",
   "nbconvert_exporter": "python",
   "pygments_lexer": "ipython3",
   "version": "3.12.4"
  }
 },
 "nbformat": 4,
 "nbformat_minor": 2
}
