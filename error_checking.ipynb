{
 "cells": [
  {
   "cell_type": "markdown",
   "metadata": {},
   "source": [
    "# Extracting link (Google Error Checking)"
   ]
  },
  {
   "cell_type": "code",
   "execution_count": 2,
   "metadata": {},
   "outputs": [
    {
     "name": "stdout",
     "output_type": "stream",
     "text": [
      "Error: Message: no such element: Unable to locate element: {\"method\":\"css selector\",\"selector\":\"a[jsname=\"UWckNb\"]\"}\n",
      "  (Session info: chrome=131.0.6778.265); For documentation on this error, please visit: https://www.selenium.dev/documentation/webdriver/troubleshooting/errors#no-such-element-exception\n",
      "Stacktrace:\n",
      "0   chromedriver                        0x000000010476a138 cxxbridge1$str$ptr + 3653888\n",
      "1   chromedriver                        0x0000000104762988 cxxbridge1$str$ptr + 3623248\n",
      "2   chromedriver                        0x00000001041c8968 cxxbridge1$string$len + 89228\n",
      "3   chromedriver                        0x000000010420cd4c cxxbridge1$string$len + 368752\n",
      "4   chromedriver                        0x00000001042464f0 cxxbridge1$string$len + 604180\n",
      "5   chromedriver                        0x0000000104201564 cxxbridge1$string$len + 321672\n",
      "6   chromedriver                        0x00000001042021b4 cxxbridge1$string$len + 324824\n",
      "7   chromedriver                        0x0000000104734fc0 cxxbridge1$str$ptr + 3436424\n",
      "8   chromedriver                        0x00000001047382dc cxxbridge1$str$ptr + 3449508\n",
      "9   chromedriver                        0x000000010471be60 cxxbridge1$str$ptr + 3333672\n",
      "10  chromedriver                        0x0000000104738b9c cxxbridge1$str$ptr + 3451748\n",
      "11  chromedriver                        0x000000010470d678 cxxbridge1$str$ptr + 3274304\n",
      "12  chromedriver                        0x00000001047532b4 cxxbridge1$str$ptr + 3560060\n",
      "13  chromedriver                        0x0000000104753430 cxxbridge1$str$ptr + 3560440\n",
      "14  chromedriver                        0x00000001047625fc cxxbridge1$str$ptr + 3622340\n",
      "15  libsystem_pthread.dylib             0x000000018e4e72e4 _pthread_start + 136\n",
      "16  libsystem_pthread.dylib             0x000000018e4e20fc thread_start + 8\n",
      "\n"
     ]
    }
   ],
   "source": [
    "import random\n",
    "import time\n",
    "from selenium import webdriver\n",
    "from selenium.webdriver.common.by import By\n",
    "from selenium.webdriver.chrome.service import Service\n",
    "from webdriver_manager.chrome import ChromeDriverManager\n",
    "from urllib.parse import urlparse\n",
    "\n",
    "url = \"https://asia.develon-ce.com/en/equipment/excavators/\"\n",
    "model = \"DX220A-2M\"\n",
    "\n",
    "def extract_domain(url):\n",
    "    parsed_url = urlparse(url)\n",
    "    return parsed_url.netloc\n",
    "\n",
    "def search_google(query):\n",
    "    search_url = f\"https://www.google.com/search?q={query}\"\n",
    "    \n",
    "    # Set up the Chrome WebDriver\n",
    "    options = webdriver.ChromeOptions()\n",
    "    options.add_argument(\"--headless\")  # Run in headless mode (without opening a browser window)\n",
    "    options.add_argument(\"--disable-gpu\")\n",
    "    options.add_argument(\"--no-sandbox\")\n",
    "    options.add_argument(\n",
    "        f\"user-agent=Mozilla/5.0 (Windows NT {random.randint(6, 10)}.0; Win64; x64) AppleWebKit/537.36 (KHTML, like Gecko) Chrome/{random.randint(90, 110)}.0.4472.{random.randint(100, 200)} Safari/537.36\"\n",
    "    )\n",
    "    \n",
    "    driver = webdriver.Chrome(service=Service(ChromeDriverManager().install()), options=options)\n",
    "    driver.get(search_url)\n",
    "    \n",
    "    # Wait for results to load (adjust time if necessary)\n",
    "    time.sleep(3)  # Wait for the page to load, adjust if needed\n",
    "    \n",
    "    return driver\n",
    "\n",
    "def get_first_search_result(url, model):\n",
    "    query = extract_domain(url) + \"+\" + model\n",
    "    driver = search_google(query)\n",
    "    \n",
    "    # Find the first search result using the href attribute\n",
    "    try:\n",
    "        first_result = driver.find_element(By.CSS_SELECTOR, 'a[jsname=\"UWckNb\"]')\n",
    "        link = first_result.get_attribute('href')  # Extract the href attribute (the URL)\n",
    "        return link\n",
    "    except Exception as e:\n",
    "        return f\"Error: {e}\"\n",
    "    finally:\n",
    "        driver.quit()  # Close the browser when done\n",
    "\n",
    "# Example usage\n",
    "first_result = get_first_search_result(url, model)\n",
    "print(first_result)\n"
   ]
  }
 ],
 "metadata": {
  "kernelspec": {
   "display_name": "base",
   "language": "python",
   "name": "python3"
  },
  "language_info": {
   "codemirror_mode": {
    "name": "ipython",
    "version": 3
   },
   "file_extension": ".py",
   "mimetype": "text/x-python",
   "name": "python",
   "nbconvert_exporter": "python",
   "pygments_lexer": "ipython3",
   "version": "3.12.4"
  }
 },
 "nbformat": 4,
 "nbformat_minor": 2
}
