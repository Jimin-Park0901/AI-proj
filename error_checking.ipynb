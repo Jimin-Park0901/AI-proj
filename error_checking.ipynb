{
 "cells": [
  {
   "cell_type": "markdown",
   "metadata": {},
   "source": [
    "# Extracting link (Google Error Checking)"
   ]
  },
  {
   "cell_type": "code",
   "execution_count": 1,
   "metadata": {},
   "outputs": [
    {
     "name": "stdout",
     "output_type": "stream",
     "text": [
      "Requirement already satisfied: selenium in /opt/anaconda3/lib/python3.12/site-packages (4.28.0)\n",
      "Collecting selenium\n",
      "  Downloading selenium-4.29.0-py3-none-any.whl.metadata (7.1 kB)\n",
      "Requirement already satisfied: urllib3<3,>=1.26 in /opt/anaconda3/lib/python3.12/site-packages (from urllib3[socks]<3,>=1.26->selenium) (2.2.3)\n",
      "Requirement already satisfied: trio~=0.17 in /opt/anaconda3/lib/python3.12/site-packages (from selenium) (0.27.0)\n",
      "Requirement already satisfied: trio-websocket~=0.9 in /opt/anaconda3/lib/python3.12/site-packages (from selenium) (0.11.1)\n",
      "Requirement already satisfied: certifi>=2021.10.8 in /opt/anaconda3/lib/python3.12/site-packages (from selenium) (2024.8.30)\n",
      "Requirement already satisfied: typing_extensions~=4.9 in /opt/anaconda3/lib/python3.12/site-packages (from selenium) (4.12.2)\n",
      "Requirement already satisfied: websocket-client~=1.8 in /opt/anaconda3/lib/python3.12/site-packages (from selenium) (1.8.0)\n",
      "Requirement already satisfied: attrs>=23.2.0 in /opt/anaconda3/lib/python3.12/site-packages (from trio~=0.17->selenium) (24.2.0)\n",
      "Requirement already satisfied: sortedcontainers in /opt/anaconda3/lib/python3.12/site-packages (from trio~=0.17->selenium) (2.4.0)\n",
      "Requirement already satisfied: idna in /opt/anaconda3/lib/python3.12/site-packages (from trio~=0.17->selenium) (3.7)\n",
      "Requirement already satisfied: outcome in /opt/anaconda3/lib/python3.12/site-packages (from trio~=0.17->selenium) (1.3.0.post0)\n",
      "Requirement already satisfied: sniffio>=1.3.0 in /opt/anaconda3/lib/python3.12/site-packages (from trio~=0.17->selenium) (1.3.0)\n",
      "Requirement already satisfied: wsproto>=0.14 in /opt/anaconda3/lib/python3.12/site-packages (from trio-websocket~=0.9->selenium) (1.2.0)\n",
      "Requirement already satisfied: pysocks!=1.5.7,<2.0,>=1.5.6 in /opt/anaconda3/lib/python3.12/site-packages (from urllib3[socks]<3,>=1.26->selenium) (1.7.1)\n",
      "Requirement already satisfied: h11<1,>=0.9.0 in /opt/anaconda3/lib/python3.12/site-packages (from wsproto>=0.14->trio-websocket~=0.9->selenium) (0.14.0)\n",
      "Downloading selenium-4.29.0-py3-none-any.whl (9.5 MB)\n",
      "\u001b[2K   \u001b[90m━━━━━━━━━━━━━━━━━━━━━━━━━━━━━━━━━━━━━━━━\u001b[0m \u001b[32m9.5/9.5 MB\u001b[0m \u001b[31m4.2 MB/s\u001b[0m eta \u001b[36m0:00:00\u001b[0ma \u001b[36m0:00:01\u001b[0m\n",
      "\u001b[?25hInstalling collected packages: selenium\n",
      "  Attempting uninstall: selenium\n",
      "    Found existing installation: selenium 4.28.0\n",
      "    Uninstalling selenium-4.28.0:\n",
      "      Successfully uninstalled selenium-4.28.0\n",
      "Successfully installed selenium-4.29.0\n",
      "Note: you may need to restart the kernel to use updated packages.\n"
     ]
    }
   ],
   "source": [
    "pip install --upgrade selenium\n"
   ]
  },
  {
   "cell_type": "code",
   "execution_count": 1,
   "metadata": {},
   "outputs": [
    {
     "name": "stdout",
     "output_type": "stream",
     "text": [
      "Error: Message: no such element: Unable to locate element: {\"method\":\"css selector\",\"selector\":\"a[jsname=\"UWckNb\"]\"}\n",
      "  (Session info: chrome=132.0.6834.84); For documentation on this error, please visit: https://www.selenium.dev/documentation/webdriver/troubleshooting/errors#no-such-element-exception\n",
      "Stacktrace:\n",
      "0   chromedriver                        0x0000000104ed37a4 cxxbridge1$str$ptr + 2589716\n",
      "1   chromedriver                        0x0000000104ecc05c cxxbridge1$str$ptr + 2559180\n",
      "2   chromedriver                        0x0000000104a6ff5c cxxbridge1$string$len + 88260\n",
      "3   chromedriver                        0x0000000104ab5024 cxxbridge1$string$len + 371084\n",
      "4   chromedriver                        0x0000000104aef1a8 cxxbridge1$string$len + 609040\n",
      "5   chromedriver                        0x0000000104aa8e40 cxxbridge1$string$len + 321448\n",
      "6   chromedriver                        0x0000000104aa9a88 cxxbridge1$string$len + 324592\n",
      "7   chromedriver                        0x0000000104e9e8a0 cxxbridge1$str$ptr + 2372880\n",
      "8   chromedriver                        0x0000000104ea1bc4 cxxbridge1$str$ptr + 2385972\n",
      "9   chromedriver                        0x0000000104e856e0 cxxbridge1$str$ptr + 2270032\n",
      "10  chromedriver                        0x0000000104ea2484 cxxbridge1$str$ptr + 2388212\n",
      "11  chromedriver                        0x0000000104e77324 cxxbridge1$str$ptr + 2211732\n",
      "12  chromedriver                        0x0000000104ebd0a0 cxxbridge1$str$ptr + 2497808\n",
      "13  chromedriver                        0x0000000104ebd21c cxxbridge1$str$ptr + 2498188\n",
      "14  chromedriver                        0x0000000104ecbcd0 cxxbridge1$str$ptr + 2558272\n",
      "15  libsystem_pthread.dylib             0x000000019294f2e4 _pthread_start + 136\n",
      "16  libsystem_pthread.dylib             0x000000019294a0fc thread_start + 8\n",
      "\n"
     ]
    }
   ],
   "source": [
    "import random\n",
    "import time\n",
    "from selenium import webdriver\n",
    "from selenium.webdriver.common.by import By\n",
    "from selenium.webdriver.chrome.service import Service\n",
    "from webdriver_manager.chrome import ChromeDriverManager\n",
    "from urllib.parse import urlparse\n",
    "\n",
    "url = \"https://asia.develon-ce.com/en/equipment/excavators/\"\n",
    "model = \"DX220A-2M\"\n",
    "\n",
    "def extract_domain(url):\n",
    "    parsed_url = urlparse(url)\n",
    "    return parsed_url.netloc\n",
    "\n",
    "def search_google(query):\n",
    "    search_url = f\"https://www.google.com/search?q={query}\"\n",
    "    \n",
    "    # Set up the Chrome WebDriver\n",
    "    options = webdriver.ChromeOptions()\n",
    "    options.add_argument(\"--headless\")  # Run in headless mode (without opening a browser window)\n",
    "    options.add_argument(\"--disable-gpu\")\n",
    "    options.add_argument(\"--no-sandbox\")\n",
    "    options.add_argument(\n",
    "        f\"user-agent=Mozilla/5.0 (Windows NT {random.randint(6, 10)}.0; Win64; x64) AppleWebKit/537.36 (KHTML, like Gecko) Chrome/{random.randint(90, 110)}.0.4472.{random.randint(100, 200)} Safari/537.36\"\n",
    "    )\n",
    "    \n",
    "    driver = webdriver.Chrome(service=Service(ChromeDriverManager().install()), options=options)\n",
    "    driver.get(search_url)\n",
    "    \n",
    "    time.sleep(3)  # Wait for the page to load, adjust if needed\n",
    "    \n",
    "    return driver\n",
    "\n",
    "def get_first_search_result(url, model):\n",
    "    query = extract_domain(url) + \"+\" + model\n",
    "    driver = search_google(query)\n",
    "    \n",
    "    # Find the first search result using the href attribute\n",
    "    try:\n",
    "        first_result = driver.find_element(By.CSS_SELECTOR, 'a[jsname=\"UWckNb\"]')\n",
    "        link = first_result.get_attribute('href')  # Extract the href attribute (the URL)\n",
    "        return link\n",
    "    except Exception as e:\n",
    "        return f\"Error: {e}\"\n",
    "    finally:\n",
    "        driver.quit()  # Close the browser when done\n",
    "\n",
    "# Example usage\n",
    "first_result = get_first_search_result(url, model)\n",
    "print(first_result)\n"
   ]
  },
  {
   "cell_type": "markdown",
   "metadata": {},
   "source": [
    "# when first one doesn't work"
   ]
  },
  {
   "cell_type": "code",
   "execution_count": 7,
   "metadata": {},
   "outputs": [
    {
     "name": "stdout",
     "output_type": "stream",
     "text": [
      "https://www.google.com/sorry/index?continue=https://www.google.com/search%3Fq%3Dasia.develon-ce.com%2BDX220A-2M%26sei%3DzqKLZ4qKO7Hj2roPpMLgsAw&q=EhAkCgBhcBOqxDR1obhfKHGpGM_FrrwGIjBefZejrNnTKxPIuJ9NdxeLZVZeAoRPp108h72dTNu86ips69RJxl4rkiLlIKxY_CgyAXJaAUM#\n"
     ]
    }
   ],
   "source": [
    "import random\n",
    "import time\n",
    "from selenium import webdriver\n",
    "from selenium.webdriver.common.by import By\n",
    "from selenium.webdriver.chrome.service import Service\n",
    "from webdriver_manager.chrome import ChromeDriverManager\n",
    "from urllib.parse import urlparse\n",
    "from selenium.webdriver.support.ui import WebDriverWait\n",
    "from selenium.webdriver.support import expected_conditions as EC\n",
    "\n",
    "url = \"https://asia.develon-ce.com/en/equipment/excavators/\"\n",
    "model = \"DX220A-2M\"\n",
    "\n",
    "def extract_domain(url):\n",
    "    parsed_url = urlparse(url)\n",
    "    return parsed_url.netloc\n",
    "\n",
    "def search_google(query):\n",
    "    search_url = f\"https://www.google.com/search?q={query}\"\n",
    "    \n",
    "    # Set up the Chrome WebDriver\n",
    "    options = webdriver.ChromeOptions()\n",
    "    options.add_argument(\"--headless\")  # Run in headless mode (without opening a browser window)\n",
    "    options.add_argument(\"--disable-gpu\")\n",
    "    options.add_argument(\"--no-sandbox\")\n",
    "    options.add_argument(\n",
    "        f\"user-agent=Mozilla/5.0 (Windows NT {random.randint(6, 10)}.0; Win64; x64) AppleWebKit/537.36 (KHTML, like Gecko) Chrome/{random.randint(90, 110)}.0.4472.{random.randint(100, 200)} Safari/537.36\"\n",
    "    )\n",
    "    \n",
    "    driver = webdriver.Chrome(service=Service(ChromeDriverManager().install()), options=options)\n",
    "    driver.get(search_url)\n",
    "    \n",
    "    time.sleep(3)  # Wait for the page to load, adjust if needed\n",
    "    \n",
    "    return driver\n",
    "\n",
    "def get_first_search_result(url, model):\n",
    "    query = extract_domain(url) + \"+\" + model\n",
    "    driver = search_google(query)\n",
    "\n",
    "    try:\n",
    "        # Wait until the first search result is clickable\n",
    "        first_result = WebDriverWait(driver, 10).until(\n",
    "            EC.element_to_be_clickable((By.XPATH, '(//a[@href])[1]'))  # XPath to select the first <a> element in the results\n",
    "        )\n",
    "        link = first_result.get_attribute('href')  # Get the href attribute (the URL)\n",
    "        return link\n",
    "    except Exception as e:\n",
    "        return f\"Error: {e}\"\n",
    "    finally:\n",
    "        driver.quit()  # Close the browser when done\n",
    "\n",
    "# Example usage\n",
    "first_result = get_first_search_result(url, model)\n",
    "print(first_result)\n"
   ]
  },
  {
   "cell_type": "code",
   "execution_count": 2,
   "metadata": {},
   "outputs": [
    {
     "name": "stdout",
     "output_type": "stream",
     "text": [
      "https://www.google.com/sorry/index?continue=https://www.google.com/search%3Fq%3Dasia.develon-ce.com%2BDX220A-2M%26sei%3DVGPJZ7r5JqTh2roP_KewgAg&q=EhAkC8AQBOCbx2Fs3f2OOd4oGNTGpb4GIjDns1KN0YKQsYhDLEU0xFTDZcLqw_Hz92yA4tn_DLgv8jaoxZTC1HHdkS4d-J9ukfgyAXJaAUM#\n"
     ]
    }
   ],
   "source": [
    "import random\n",
    "import time\n",
    "from selenium import webdriver\n",
    "from selenium.webdriver.common.by import By\n",
    "from selenium.webdriver.chrome.service import Service\n",
    "from webdriver_manager.chrome import ChromeDriverManager\n",
    "from urllib.parse import urlparse\n",
    "\n",
    "url = \"https://asia.develon-ce.com/en/equipment/excavators/\"\n",
    "model = \"DX220A-2M\"\n",
    "\n",
    "def extract_domain(url):\n",
    "    parsed_url = urlparse(url)\n",
    "    return parsed_url.netloc\n",
    "\n",
    "def search_google(query):\n",
    "    search_url = f\"https://www.google.com/search?q={query}\"\n",
    "    \n",
    "    # Set up the Chrome WebDriver\n",
    "    options = webdriver.ChromeOptions()\n",
    "    options.add_argument(\"--headless\")  # Run in headless mode (without opening a browser window)\n",
    "    options.add_argument(\"--disable-gpu\")\n",
    "    options.add_argument(\"--no-sandbox\")\n",
    "    options.add_argument(\n",
    "        f\"user-agent=Mozilla/5.0 (Windows NT {random.randint(6, 10)}.0; Win64; x64) AppleWebKit/537.36 (KHTML, like Gecko) Chrome/{random.randint(90, 110)}.0.4472.{random.randint(100, 200)} Safari/537.36\"\n",
    "    )\n",
    "    \n",
    "    driver = webdriver.Chrome(service=Service(ChromeDriverManager().install()), options=options)\n",
    "    driver.get(search_url)\n",
    "    \n",
    "    time.sleep(3)  # Wait for the page to load, adjust if needed\n",
    "    \n",
    "    return driver\n",
    "\n",
    "def get_first_search_result(url, model):\n",
    "    query = extract_domain(url) + \"+\" + model\n",
    "    driver = search_google(query)\n",
    "    \n",
    "    # Find the first search result using XPath\n",
    "    try:\n",
    "        first_result = driver.find_element(By.XPATH, '(//a[@href])[1]')\n",
    "        link = first_result.get_attribute('href')  # Extract the href attribute (the URL)\n",
    "        return link\n",
    "    except Exception as e:\n",
    "        return f\"Error: {e}\"\n",
    "    finally:\n",
    "        driver.quit()  # Close the browser when done\n",
    "\n",
    "# Example usage\n",
    "first_result = get_first_search_result(url, model)\n",
    "print(first_result)\n"
   ]
  }
 ],
 "metadata": {
  "kernelspec": {
   "display_name": "base",
   "language": "python",
   "name": "python3"
  },
  "language_info": {
   "codemirror_mode": {
    "name": "ipython",
    "version": 3
   },
   "file_extension": ".py",
   "mimetype": "text/x-python",
   "name": "python",
   "nbconvert_exporter": "python",
   "pygments_lexer": "ipython3",
   "version": "3.12.4"
  }
 },
 "nbformat": 4,
 "nbformat_minor": 2
}
